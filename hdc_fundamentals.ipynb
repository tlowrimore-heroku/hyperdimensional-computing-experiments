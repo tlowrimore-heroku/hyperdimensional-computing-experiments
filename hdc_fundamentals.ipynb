{
 "cells": [
  {
   "cell_type": "code",
   "execution_count": 2,
   "id": "597bab7c-b8ff-4353-a404-a9824b56def3",
   "metadata": {},
   "outputs": [],
   "source": [
    "import numpy as np"
   ]
  },
  {
   "cell_type": "code",
   "execution_count": 3,
   "id": "eeb1ce6c-bf5e-4893-a180-166d73ea36ed",
   "metadata": {},
   "outputs": [],
   "source": [
    "HCV_DIMS = 10000"
   ]
  },
  {
   "cell_type": "code",
   "execution_count": 4,
   "id": "998b299a-4ba3-4297-87e8-656ca2795c01",
   "metadata": {},
   "outputs": [],
   "source": [
    "# Generates a random, polar vector of size HCV_DIMS.\n",
    "def hdv():\n",
    "    return np.random.choice((-1,1), HCV_DIMS)\n",
    "\n",
    "# Combines the vectors a and b using element-wise addition\n",
    "def bundle(a, b):\n",
    "    return np.sign(a + b)\n",
    "\n",
    "# Combines the vectors a and b using element-wise multiplication\n",
    "def bind(a, b):\n",
    "    return a * b\n",
    "\n",
    "# Shifts the vectors by 'k', returning any elements shifted off the end to the beginning\n",
    "def shift(a, k=1):\n",
    "    return np.roll(a, k)\n",
    "\n",
    "# Find the cosine similarity between vectors a and b\n",
    "def cos_similarity(a, b):\n",
    "    norm_a = np.linalg.norm(a)\n",
    "    norm_b = np.linalg.norm(b)\n",
    "    return np.dot(a, b) / (norm_a * norm_b)"
   ]
  },
  {
   "cell_type": "code",
   "execution_count": 5,
   "id": "abbc0594-40d9-4480-847f-e6f69ca6c7ee",
   "metadata": {},
   "outputs": [
    {
     "name": "stdout",
     "output_type": "stream",
     "text": [
      "5078\n"
     ]
    }
   ],
   "source": [
    "# Create the binary matrices\n",
    "x = hdv()\n",
    "y = hdv()\n",
    "\n",
    "# Shift the vector x by 1\n",
    "t = shift(x)\n",
    "\n",
    "# A shifted vector only share about half of its values with the original.\n",
    "print(np.sum(x == t))"
   ]
  },
  {
   "cell_type": "code",
   "execution_count": 6,
   "id": "40cde042-46bd-42aa-a3f3-c35dbc7052bf",
   "metadata": {},
   "outputs": [
    {
     "name": "stdout",
     "output_type": "stream",
     "text": [
      "0.002\n"
     ]
    }
   ],
   "source": [
    "sim = cos_similarity(x, y)\n",
    "print(sim)"
   ]
  },
  {
   "cell_type": "code",
   "execution_count": 7,
   "id": "9916422d-a81d-45df-a794-fc1effd4fa49",
   "metadata": {},
   "outputs": [
    {
     "data": {
      "text/plain": [
       "True"
      ]
     },
     "execution_count": 7,
     "metadata": {},
     "output_type": "execute_result"
    }
   ],
   "source": [
    "z = hdv()\n",
    "\n",
    "np.array_equal(bind(x, bundle(y, z)), bundle(bind(x, y), bind(x, z)))\n"
   ]
  },
  {
   "cell_type": "code",
   "execution_count": 8,
   "id": "4e34f7fa-c094-47d2-aeed-b6d951a3fcef",
   "metadata": {},
   "outputs": [],
   "source": [
    "class HDCModel:\n",
    "    def __init__(self):\n",
    "        self.size = 0\n",
    "        self.value = np.zeros(HCV_DIMS)\n",
    "\n",
    "    def add(self, key, value):\n",
    "        binding = bind(key, value)\n",
    "        self.value = bundle(self.value, binding)\n",
    "        self.size += 1"
   ]
  },
  {
   "cell_type": "code",
   "execution_count": 9,
   "id": "60c0b974-ba4a-4303-9b86-208b11e67697",
   "metadata": {},
   "outputs": [
    {
     "data": {
      "text/plain": [
       "array([-0.00062417,  0.00062417,  0.001605  ,  0.00775751,  0.00856001,\n",
       "        0.00115917,  0.00214   ,  0.00115917,  0.24922101])"
      ]
     },
     "execution_count": 9,
     "metadata": {},
     "output_type": "execute_result"
    }
   ],
   "source": [
    "# Example 1\n",
    "\n",
    "# keys\n",
    "keys = np.array([hdv() for x in range(3)])\n",
    "country, capital, currency = keys\n",
    "\n",
    "# countries\n",
    "usa, mex = [hdv() for x in range(2)]\n",
    "\n",
    "# capitals\n",
    "wdc, mxc = [hdv() for x in range(2)]\n",
    "\n",
    "# currency\n",
    "usd, mxn = [hdv() for x in range(2)]\n",
    "\n",
    "# US\n",
    "us = HDCModel()\n",
    "us.add(country, usa)\n",
    "us.add(capital, wdc)\n",
    "us.add(currency, usd)\n",
    "us_values = np.array([usa, wdc, usd])\n",
    "\n",
    "# MX\n",
    "mx = HDCModel()\n",
    "mx.add(country, mex)\n",
    "mx.add(capital, mxc)\n",
    "mx.add(currency, mxn)\n",
    "mx_values = np.array([mex, mxc, mxn])\n",
    "\n",
    "mx_us = bind(us.value, mx.value)\n",
    "usd_of_mx = bind(mx_us, usd)\n",
    "\n",
    "memory = np.concatenate((keys, us_values, mx_values))\n",
    "cos_similarity(usd_of_mx, memory.T)"
   ]
  }
 ],
 "metadata": {
  "kernelspec": {
   "display_name": "Python 3 (ipykernel)",
   "language": "python",
   "name": "python3"
  },
  "language_info": {
   "codemirror_mode": {
    "name": "ipython",
    "version": 3
   },
   "file_extension": ".py",
   "mimetype": "text/x-python",
   "name": "python",
   "nbconvert_exporter": "python",
   "pygments_lexer": "ipython3",
   "version": "3.12.4"
  }
 },
 "nbformat": 4,
 "nbformat_minor": 5
}
