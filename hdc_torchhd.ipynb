{
 "cells": [
  {
   "cell_type": "code",
   "execution_count": 1,
   "id": "804e3a89-7706-482f-860f-95b1044b4f22",
   "metadata": {},
   "outputs": [],
   "source": [
    "import torch, torchhd"
   ]
  },
  {
   "cell_type": "code",
   "execution_count": 2,
   "id": "a1c330e9-f0cb-4b66-956e-dcffa1cd05a5",
   "metadata": {},
   "outputs": [],
   "source": [
    "D = 10000"
   ]
  },
  {
   "cell_type": "code",
   "execution_count": 3,
   "id": "81b043ae-be68-48b6-9c0f-c2d0aa37ea33",
   "metadata": {},
   "outputs": [
    {
     "data": {
      "text/plain": [
       "MAPTensor([ 0.0091, -0.0012,  0.0022, -0.0089, -0.0005, -0.0097,  0.0091,\n",
       "            0.0282,  0.3354])"
      ]
     },
     "execution_count": 3,
     "metadata": {},
     "output_type": "execute_result"
    }
   ],
   "source": [
    "# create the hypervectors for each symbol\n",
    "keys = torchhd.random(3, D)\n",
    "country, capital, currency = keys\n",
    "\n",
    "usa, mex = torchhd.random(2, D)  # United States and Mexico\n",
    "wdc, mxc = torchhd.random(2, D)  # Washington D.C. and Mexico City\n",
    "usd, mxn = torchhd.random(2, D)  # US Dollar and Mexican Peso\n",
    "\n",
    "# create country representations\n",
    "us_values = torch.stack([usa, wdc, usd])\n",
    "us = torchhd.hash_table(keys, us_values)\n",
    "\n",
    "mx_values = torch.stack([mex, mxc, mxn])\n",
    "mx = torchhd.hash_table(keys, mx_values)\n",
    "\n",
    "# combine all the associated information\n",
    "mx_us = torchhd.bind(torchhd.inverse(us), mx)\n",
    "\n",
    "# query for the dollar of mexico\n",
    "usd_of_mex = torchhd.bind(mx_us, usd)\n",
    "\n",
    "memory = torch.cat([keys, us_values, mx_values], dim=0)\n",
    "torchhd.cosine_similarity(usd_of_mex, memory)"
   ]
  }
 ],
 "metadata": {
  "kernelspec": {
   "display_name": "Python 3 (ipykernel)",
   "language": "python",
   "name": "python3"
  },
  "language_info": {
   "codemirror_mode": {
    "name": "ipython",
    "version": 3
   },
   "file_extension": ".py",
   "mimetype": "text/x-python",
   "name": "python",
   "nbconvert_exporter": "python",
   "pygments_lexer": "ipython3",
   "version": "3.12.4"
  }
 },
 "nbformat": 4,
 "nbformat_minor": 5
}
