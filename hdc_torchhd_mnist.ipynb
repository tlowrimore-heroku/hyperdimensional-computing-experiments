{
 "cells": [
  {
   "cell_type": "code",
   "execution_count": 14,
   "id": "b55619e8-1e5c-43c0-ba3e-da1705cfa8e2",
   "metadata": {},
   "outputs": [],
   "source": [
    "import torch\n",
    "import torch.nn as nn\n",
    "import torch.nn.functional as F\n",
    "import torchvision\n",
    "\n",
    "from torchvision.datasets import MNIST\n",
    "\n",
    "import torchmetrics\n",
    "\n",
    "from tqdm import tqdm\n",
    "\n",
    "import torchhd\n",
    "\n",
    "from torchhd.models import Centroid\n",
    "from torchhd import embeddings"
   ]
  },
  {
   "cell_type": "code",
   "execution_count": 27,
   "id": "cfc13490",
   "metadata": {},
   "outputs": [
    {
     "name": "stdout",
     "output_type": "stream",
     "text": [
      "...using cpu device\n"
     ]
    }
   ],
   "source": [
    "device = torch.device(\"cuda\" if torch.cuda.is_available() else \"cpu\")\n",
    "print(\"...using {} device\".format(device))\n",
    "\n",
    "D = 10000\n",
    "IMG_SIZE = 28\n",
    "N_LEVELS = 1000\n",
    "BATCH_SIZE = 1"
   ]
  },
  {
   "cell_type": "code",
   "execution_count": 28,
   "id": "60ff6820",
   "metadata": {},
   "outputs": [],
   "source": [
    "transform = torchvision.transforms.ToTensor()\n",
    "\n",
    "train_dataset = MNIST(\"./data/\", train=True, transform=transform, download=True)\n",
    "train_labeled_data = torch.utils.data.DataLoader(train_dataset, batch_size=BATCH_SIZE, shuffle=True)\n",
    "\n",
    "test_dataset = MNIST(\"./data/\", train=False, transform=transform, download=True)\n",
    "test_labeled_data = torch.utils.data.DataLoader(test_dataset, batch_size=BATCH_SIZE, shuffle=True)"
   ]
  },
  {
   "cell_type": "code",
   "execution_count": 29,
   "id": "3769ba3a",
   "metadata": {},
   "outputs": [],
   "source": [
    "class Encoder(nn.Module):\n",
    "  def __init__(self, out_features, size, levels):\n",
    "    super(Encoder, self).__init__()\n",
    "    self.flatten = torch.nn.Flatten()\n",
    "    self.position = embeddings.Random(size * size, out_features)\n",
    "    self.value = embeddings.Level(levels, out_features)\n",
    "\n",
    "  def forward(self, x):\n",
    "    x = self.flatten(x)\n",
    "    sample_hv = torchhd.bind(self.position.weight, self.value(x))\n",
    "    sample_hv = torchhd.multiset(sample_hv)\n",
    "    return torchhd.hard_quantize(sample_hv)\n",
    "  \n",
    "encode = Encoder(D, IMG_SIZE, N_LEVELS)\n",
    "encode = encode.to(device)\n",
    "\n",
    "n_classes = len(train_dataset.classes)\n",
    "model = Centroid(D, n_classes)\n",
    "model = model.to(device)"
   ]
  },
  {
   "cell_type": "code",
   "execution_count": 30,
   "id": "8e1d9557",
   "metadata": {},
   "outputs": [
    {
     "name": "stderr",
     "output_type": "stream",
     "text": [
      "Training: 100%|██████████| 60000/60000 [04:53<00:00, 204.61it/s]\n"
     ]
    }
   ],
   "source": [
    "with torch.no_grad():\n",
    "  for samples, labels in tqdm(train_labeled_data, desc=\"Training\"):\n",
    "    samples = samples.to(device)\n",
    "    labels = labels.to(device)\n",
    "    \n",
    "    samples_hv = encode(samples)\n",
    "    model.add(samples_hv, labels)"
   ]
  },
  {
   "cell_type": "code",
   "execution_count": 31,
   "id": "27d53e7b",
   "metadata": {},
   "outputs": [
    {
     "name": "stderr",
     "output_type": "stream",
     "text": [
      "Testing: 100%|██████████| 10000/10000 [00:47<00:00, 212.76it/s]\n"
     ]
    }
   ],
   "source": [
    "accuracy = torchmetrics.Accuracy(\"multiclass\", num_classes=n_classes)\n",
    "\n",
    "with torch.no_grad():\n",
    "  model.normalize()\n",
    "\n",
    "  for samples, labels in tqdm(test_labeled_data, desc=\"Testing\"):\n",
    "    samples = samples.to(device)\n",
    "\n",
    "    samples_hv = encode(samples)\n",
    "    outputs = model(samples_hv, dot=True)\n",
    "    accuracy.update(outputs.cpu(), labels)"
   ]
  },
  {
   "cell_type": "code",
   "execution_count": 33,
   "id": "8a6eddc0",
   "metadata": {},
   "outputs": [
    {
     "name": "stdout",
     "output_type": "stream",
     "text": [
      "Testing accuracy of 82.840%\n"
     ]
    }
   ],
   "source": [
    "print(f\"Testing accuracy of {(accuracy.compute().item() * 100):.3f}%\")"
   ]
  }
 ],
 "metadata": {
  "kernelspec": {
   "display_name": "Python 3 (ipykernel)",
   "language": "python",
   "name": "python3"
  },
  "language_info": {
   "codemirror_mode": {
    "name": "ipython",
    "version": 3
   },
   "file_extension": ".py",
   "mimetype": "text/x-python",
   "name": "python",
   "nbconvert_exporter": "python",
   "pygments_lexer": "ipython3",
   "version": "3.12.4"
  }
 },
 "nbformat": 4,
 "nbformat_minor": 5
}
